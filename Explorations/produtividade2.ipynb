{
 "cells": [
  {
   "cell_type": "markdown",
   "metadata": {},
   "source": [
    "### Imports e conexão"
   ]
  },
  {
   "cell_type": "code",
   "execution_count": 1,
   "metadata": {},
   "outputs": [
    {
     "data": {
      "text/plain": [
       "'pt_BR.UTF-8'"
      ]
     },
     "execution_count": 1,
     "metadata": {},
     "output_type": "execute_result"
    }
   ],
   "source": [
    "import pyodbc\n",
    "import pandas as pd\n",
    "import locale\n",
    "locale.setlocale(locale.LC_TIME, 'pt_BR.UTF-8')"
   ]
  },
  {
   "cell_type": "code",
   "execution_count": 2,
   "metadata": {},
   "outputs": [
    {
     "name": "stdout",
     "output_type": "stream",
     "text": [
      "Conexão bem-sucedida!\n"
     ]
    }
   ],
   "source": [
    "server = '45.7.171.233,51433'  # ou o endereço IP do servidor SQL Server\n",
    "database = 'neteye_pucrs_full'   # nome do banco de dados restaurado\n",
    "username = 'neteye_pucrs'       # nome de usuário do SQL Server\n",
    "password = '1goE$6G^3Ng6!dKZ'  # senha do usuário\n",
    "\n",
    "\n",
    "# String de conexão\n",
    "connection_string = (\n",
    "    f'DRIVER={{ODBC Driver 18 for SQL Server}};'\n",
    "    f'SERVER={server};'\n",
    "    f'DATABASE={database};'\n",
    "    f'UID={username};'\n",
    "    f'PWD={password};'\n",
    "    'TrustServerCertificate=yes;'\n",
    ")\n",
    "\n",
    "try:\n",
    "    # Estabelecer conexão com o banco de dados\n",
    "    connection = pyodbc.connect(connection_string)\n",
    "    print(\"Conexão bem-sucedida!\")\n",
    "\n",
    "except Exception as e:\n",
    "    print(\"Erro ao conectar ao banco de dados:\", e)"
   ]
  },
  {
   "cell_type": "markdown",
   "metadata": {},
   "source": [
    "## Selecionando tabelas"
   ]
  },
  {
   "cell_type": "code",
   "execution_count": 3,
   "metadata": {},
   "outputs": [],
   "source": [
    "view_prod = \"bi.fPRODUTIVIDADE\"\n",
    "view_sessoes = \"bi.fSESSOES\""
   ]
  },
  {
   "cell_type": "code",
   "execution_count": 3,
   "metadata": {},
   "outputs": [
    {
     "name": "stderr",
     "output_type": "stream",
     "text": [
      "/tmp/ipykernel_6993/4095877863.py:2: UserWarning: pandas only supports SQLAlchemy connectable (engine/connection) or database string URI or sqlite3 DBAPI2 connection. Other DBAPI2 objects are not tested. Please consider using SQLAlchemy.\n",
      "  bi_users = pd.read_sql(query, connection)\n",
      "/tmp/ipykernel_6993/4095877863.py:5: UserWarning: pandas only supports SQLAlchemy connectable (engine/connection) or database string URI or sqlite3 DBAPI2 connection. Other DBAPI2 objects are not tested. Please consider using SQLAlchemy.\n",
      "  bi_produtividade = pd.read_sql(query, connection)\n",
      "/tmp/ipykernel_6993/4095877863.py:8: UserWarning: pandas only supports SQLAlchemy connectable (engine/connection) or database string URI or sqlite3 DBAPI2 connection. Other DBAPI2 objects are not tested. Please consider using SQLAlchemy.\n",
      "  bi_sessoes = pd.read_sql(query, connection)\n",
      "/tmp/ipykernel_6993/4095877863.py:14: UserWarning: pandas only supports SQLAlchemy connectable (engine/connection) or database string URI or sqlite3 DBAPI2 connection. Other DBAPI2 objects are not tested. Please consider using SQLAlchemy.\n",
      "  programs = pd.read_sql(query, connection)\n"
     ]
    }
   ],
   "source": [
    "query = 'SELECT TOP 1000 * FROM bi.fPRODUTIVIDADE'\n",
    "bi_produtividade = pd.read_sql(query, connection)\n",
    "\n",
    "query = 'SELECT TOP 1000 * FROM bi.fSESSOES'\n",
    "bi_sessoes = pd.read_sql(query, connection)"
   ]
  }
 ],
 "metadata": {
  "kernelspec": {
   "display_name": "sql-server",
   "language": "python",
   "name": "python3"
  },
  "language_info": {
   "codemirror_mode": {
    "name": "ipython",
    "version": 3
   },
   "file_extension": ".py",
   "mimetype": "text/x-python",
   "name": "python",
   "nbconvert_exporter": "python",
   "pygments_lexer": "ipython3",
   "version": "3.12.4"
  }
 },
 "nbformat": 4,
 "nbformat_minor": 2
}
